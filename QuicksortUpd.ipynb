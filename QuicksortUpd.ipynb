{
  "nbformat": 4,
  "nbformat_minor": 0,
  "metadata": {
    "colab": {
      "provenance": [],
      "authorship_tag": "ABX9TyO4Kavd+4+irIDYtUJUGLj+",
      "include_colab_link": true
    },
    "kernelspec": {
      "name": "python3",
      "display_name": "Python 3"
    },
    "language_info": {
      "name": "python"
    }
  },
  "cells": [
    {
      "cell_type": "markdown",
      "metadata": {
        "id": "view-in-github",
        "colab_type": "text"
      },
      "source": [
        "<a href=\"https://colab.research.google.com/github/krusegw/cs315/blob/main/QuicksortUpd.ipynb\" target=\"_parent\"><img src=\"https://colab.research.google.com/assets/colab-badge.svg\" alt=\"Open In Colab\"/></a>"
      ]
    },
    {
      "cell_type": "code",
      "execution_count": 1,
      "metadata": {
        "id": "t_LwP80OmwFK"
      },
      "outputs": [],
      "source": [
        "# Template for testing Quick-Sort on small lists, outputing each intermediate step"
      ]
    },
    {
      "cell_type": "code",
      "source": [
        "import random\n",
        "import time\n",
        "import math\n",
        "import numpy as np"
      ],
      "metadata": {
        "id": "LMcLd_etm-0Y"
      },
      "execution_count": 2,
      "outputs": []
    },
    {
      "cell_type": "code",
      "source": [
        "# Partition provided as a convenience\n",
        "\n",
        "def Partition(A,p,r):\n",
        "    x = A[r]\n",
        "    i = p - 1\n",
        "    for j in range(p,r):\n",
        "        if ( A[j] <= x ):\n",
        "            i = i + 1\n",
        "            #swap A[i] <--> A[j]\n",
        "            temp=A[i]\n",
        "            A[i]=A[j]\n",
        "            A[j]=temp\n",
        "    #swap A[i+1] <--> A[r]\n",
        "    temp=A[i+1]\n",
        "    A[i+1]=A[r]\n",
        "    A[r]=temp\n",
        "\n",
        "    return i + 1"
      ],
      "metadata": {
        "id": "TyWIYm1_nIYR"
      },
      "execution_count": 3,
      "outputs": []
    },
    {
      "cell_type": "code",
      "source": [
        "# Median of Three Partition\n",
        "\n",
        "def PartitionM3(A,p,r):\n",
        "    #print(np.array( [ A[p] , A[ int((p+r)/2 ) ] , A[r] ] ))\n",
        "    median = np.median( np.array( [ A[p] , A[ (p+r)//2 ] , A[r] ] ) )\n",
        "    if median==A[p]:\n",
        "        x = A[p]\n",
        "        medianIndex=p\n",
        "    elif median==A[(p+r)//2]:\n",
        "        x = A[(p+r)//2]\n",
        "        medianIndex=(p+r)//2\n",
        "    else:\n",
        "        x = A[r]\n",
        "        medianIndex=r\n",
        "    #swap A[medianIndex] <--> A[r]\n",
        "    A[medianIndex], A[r] = A[r], A[medianIndex]\n",
        "    #temp=A[medianIndex]\n",
        "    #A[medianIndex]=A[r]\n",
        "    #A[r]=temp\n",
        "    #print(x,A)\n",
        "    i = p - 1\n",
        "    for j in range(p,r):\n",
        "        if ( A[j] <= x ):\n",
        "            i = i + 1\n",
        "            #swap A[i] <--> A[j]\n",
        "            temp=A[i]\n",
        "            A[i]=A[j]\n",
        "            A[j]=temp\n",
        "    #swap A[i+1] <--> A[r]\n",
        "    temp=A[i+1]\n",
        "    A[i+1]=A[r]\n",
        "    A[r]=temp\n",
        "\n",
        "    return i + 1"
      ],
      "metadata": {
        "id": "oYwacQTaZMYL"
      },
      "execution_count": 41,
      "outputs": []
    },
    {
      "cell_type": "code",
      "source": [
        "def Quicksort(A,p,r,print_flag):\n",
        "    if p < r:\n",
        "        q  = Partition(A , p , r)\n",
        "        if print_flag:\n",
        "            print(A)\n",
        "        Quicksort(A , p , q-1,print_flag)\n",
        "        Quicksort(A , q+1 , r,print_flag)"
      ],
      "metadata": {
        "id": "neX-YNcPnLpk"
      },
      "execution_count": 5,
      "outputs": []
    },
    {
      "cell_type": "code",
      "source": [
        "def QuicksortTail(A,p,r):\n",
        "    while p < r:\n",
        "        q  = Partition(A , p , r)\n",
        "        QuicksortTail(A , p , q-1)\n",
        "        p=q+1"
      ],
      "metadata": {
        "id": "jZPKm72pXSaq"
      },
      "execution_count": 6,
      "outputs": []
    },
    {
      "cell_type": "code",
      "source": [
        "def QuicksortM3(A,p,r,print_flag):\n",
        "    if p < r:\n",
        "        q  = PartitionM3(A , p , r)\n",
        "        if print_flag:\n",
        "            print(A)\n",
        "        QuicksortM3(A , p , q-1,print_flag)\n",
        "        QuicksortM3(A , q+1 , r,print_flag)"
      ],
      "metadata": {
        "id": "3L7KyX8eZ0R3"
      },
      "execution_count": 19,
      "outputs": []
    },
    {
      "cell_type": "code",
      "source": [
        "for i in range(1,7):\n",
        "  N = int(math.pow(10,i))\n",
        "  A = list(range( N ) )\n",
        "  random.shuffle(A)\n",
        "  #print(A)\n",
        "  start = time.time()\n",
        "  Quicksort(A,0,N-1,False)\n",
        "  end = time.time()\n",
        "  ratio=(end-start)/(N*math.log(N,2))\n",
        "  print(N,end-start,ratio)\n",
        "  #print(A)"
      ],
      "metadata": {
        "colab": {
          "base_uri": "https://localhost:8080/"
        },
        "id": "RVXFjLS0nCeo",
        "outputId": "282a2395-afaa-48bc-8f1c-860a6a84ec59"
      },
      "execution_count": 47,
      "outputs": [
        {
          "output_type": "stream",
          "name": "stdout",
          "text": [
            "10 1.049041748046875e-05 3.1579303286588603e-07\n",
            "100 7.367134094238281e-05 1.1088641722222588e-07\n",
            "1000 0.0011324882507324219 1.1363764440249686e-07\n",
            "10000 0.014799356460571289 1.1137625527888718e-07\n",
            "100000 0.22835469245910645 1.3748322416162914e-07\n",
            "1000000 4.275392770767212 2.1450357787431175e-07\n"
          ]
        }
      ]
    },
    {
      "cell_type": "code",
      "source": [
        "for i in range(1,7):\n",
        "  N = int(math.pow(10,i))\n",
        "  A = list(range( N ) )\n",
        "  random.shuffle(A)\n",
        "  #print(A)\n",
        "  start = time.time()\n",
        "  QuicksortTail(A,0,N-1)\n",
        "  end = time.time()\n",
        "  ratio=(end-start)/(N*math.log(N,2))\n",
        "  print(N,end-start,ratio)\n",
        "  #print(A)"
      ],
      "metadata": {
        "id": "L0KismHAXbMV",
        "outputId": "dff095c0-45cf-44ef-bf6c-d899f7eb18b1",
        "colab": {
          "base_uri": "https://localhost:8080/"
        }
      },
      "execution_count": 46,
      "outputs": [
        {
          "output_type": "stream",
          "name": "stdout",
          "text": [
            "10 1.5020370483398438e-05 4.5215820614888224e-07\n",
            "100 0.00010824203491210938 1.629204965012639e-07\n",
            "1000 0.0020051002502441406 2.0119843987894706e-07\n",
            "10000 0.04483175277709961 3.373925586024743e-07\n",
            "100000 0.371645450592041 2.2375285676052088e-07\n",
            "1000000 3.394582986831665 1.7031188363449342e-07\n"
          ]
        }
      ]
    },
    {
      "cell_type": "code",
      "source": [
        "for i in range(1,7):\n",
        "  N = int(math.pow(10,i))\n",
        "  A = list(range( N ) )\n",
        "  random.shuffle(A)\n",
        "  #print(A)\n",
        "  start = time.time()\n",
        "  QuicksortM3(A,0,N-1,False)\n",
        "  end = time.time()\n",
        "  ratio=(end-start)/(N*math.log(N,2))\n",
        "  print(N,end-start,ratio)\n",
        "  #print(A)"
      ],
      "metadata": {
        "id": "6fFh-ddDZ6l2",
        "outputId": "0fd7cd99-7d1b-4a6e-d6ce-71eb93948af0",
        "colab": {
          "base_uri": "https://localhost:8080/"
        }
      },
      "execution_count": 45,
      "outputs": [
        {
          "output_type": "stream",
          "name": "stdout",
          "text": [
            "10 0.00035452842712402344 1.0672369087990284e-05\n",
            "100 0.002413034439086914 3.631978733676855e-06\n",
            "1000 0.021180152893066406 2.125287111187413e-06\n",
            "10000 0.14089632034301758 1.0603504675482372e-06\n",
            "100000 1.5271663665771484 9.194457694177939e-07\n",
            "1000000 16.646315813064575 8.351733961713485e-07\n"
          ]
        }
      ]
    },
    {
      "cell_type": "code",
      "source": [
        "# \"Vanilla\" Quicksort on already sorted data\n",
        "# CHANGE THE RATIO TEST TO n^2\n",
        "for i in range(1,7):\n",
        "  N = int(math.pow(10,i))\n",
        "  A = list(range( N ) )\n",
        "  #random.shuffle(A)\n",
        "  #print(A)\n",
        "  start = time.time()\n",
        "  Quicksort(A,0,N-1,False)\n",
        "  end = time.time()\n",
        "  ratio=(end-start)/math.pow(N,2)\n",
        "  print(N,end-start,ratio)\n",
        "  #print(A)"
      ],
      "metadata": {
        "id": "WyaJLnqmlBqJ",
        "outputId": "7ac954f5-dc9e-4d2d-a020-f02cd2282582",
        "colab": {
          "base_uri": "https://localhost:8080/",
          "height": 408
        }
      },
      "execution_count": 13,
      "outputs": [
        {
          "output_type": "stream",
          "name": "stdout",
          "text": [
            "10 1.239776611328125e-05 1.239776611328125e-07\n",
            "100 0.0005354881286621094 5.3548812866210936e-08\n"
          ]
        },
        {
          "output_type": "error",
          "ename": "RecursionError",
          "evalue": "maximum recursion depth exceeded in comparison",
          "traceback": [
            "\u001b[0;31m---------------------------------------------------------------------------\u001b[0m",
            "\u001b[0;31mRecursionError\u001b[0m                            Traceback (most recent call last)",
            "\u001b[0;32m/tmp/ipython-input-13-131890026.py\u001b[0m in \u001b[0;36m<cell line: 0>\u001b[0;34m()\u001b[0m\n\u001b[1;32m      7\u001b[0m   \u001b[0;31m#print(A)\u001b[0m\u001b[0;34m\u001b[0m\u001b[0;34m\u001b[0m\u001b[0m\n\u001b[1;32m      8\u001b[0m   \u001b[0mstart\u001b[0m \u001b[0;34m=\u001b[0m \u001b[0mtime\u001b[0m\u001b[0;34m.\u001b[0m\u001b[0mtime\u001b[0m\u001b[0;34m(\u001b[0m\u001b[0;34m)\u001b[0m\u001b[0;34m\u001b[0m\u001b[0;34m\u001b[0m\u001b[0m\n\u001b[0;32m----> 9\u001b[0;31m   \u001b[0mQuicksort\u001b[0m\u001b[0;34m(\u001b[0m\u001b[0mA\u001b[0m\u001b[0;34m,\u001b[0m\u001b[0;36m0\u001b[0m\u001b[0;34m,\u001b[0m\u001b[0mN\u001b[0m\u001b[0;34m-\u001b[0m\u001b[0;36m1\u001b[0m\u001b[0;34m,\u001b[0m\u001b[0;32mFalse\u001b[0m\u001b[0;34m)\u001b[0m\u001b[0;34m\u001b[0m\u001b[0;34m\u001b[0m\u001b[0m\n\u001b[0m\u001b[1;32m     10\u001b[0m   \u001b[0mend\u001b[0m \u001b[0;34m=\u001b[0m \u001b[0mtime\u001b[0m\u001b[0;34m.\u001b[0m\u001b[0mtime\u001b[0m\u001b[0;34m(\u001b[0m\u001b[0;34m)\u001b[0m\u001b[0;34m\u001b[0m\u001b[0;34m\u001b[0m\u001b[0m\n\u001b[1;32m     11\u001b[0m   \u001b[0mratio\u001b[0m\u001b[0;34m=\u001b[0m\u001b[0;34m(\u001b[0m\u001b[0mend\u001b[0m\u001b[0;34m-\u001b[0m\u001b[0mstart\u001b[0m\u001b[0;34m)\u001b[0m\u001b[0;34m/\u001b[0m\u001b[0mmath\u001b[0m\u001b[0;34m.\u001b[0m\u001b[0mpow\u001b[0m\u001b[0;34m(\u001b[0m\u001b[0mN\u001b[0m\u001b[0;34m,\u001b[0m\u001b[0;36m2\u001b[0m\u001b[0;34m)\u001b[0m\u001b[0;34m\u001b[0m\u001b[0;34m\u001b[0m\u001b[0m\n",
            "\u001b[0;32m/tmp/ipython-input-5-2204652070.py\u001b[0m in \u001b[0;36mQuicksort\u001b[0;34m(A, p, r, print_flag)\u001b[0m\n\u001b[1;32m      4\u001b[0m         \u001b[0;32mif\u001b[0m \u001b[0mprint_flag\u001b[0m\u001b[0;34m:\u001b[0m\u001b[0;34m\u001b[0m\u001b[0;34m\u001b[0m\u001b[0m\n\u001b[1;32m      5\u001b[0m             \u001b[0mprint\u001b[0m\u001b[0;34m(\u001b[0m\u001b[0mA\u001b[0m\u001b[0;34m)\u001b[0m\u001b[0;34m\u001b[0m\u001b[0;34m\u001b[0m\u001b[0m\n\u001b[0;32m----> 6\u001b[0;31m         \u001b[0mQuicksort\u001b[0m\u001b[0;34m(\u001b[0m\u001b[0mA\u001b[0m \u001b[0;34m,\u001b[0m \u001b[0mp\u001b[0m \u001b[0;34m,\u001b[0m \u001b[0mq\u001b[0m\u001b[0;34m-\u001b[0m\u001b[0;36m1\u001b[0m\u001b[0;34m,\u001b[0m\u001b[0mprint_flag\u001b[0m\u001b[0;34m)\u001b[0m\u001b[0;34m\u001b[0m\u001b[0;34m\u001b[0m\u001b[0m\n\u001b[0m\u001b[1;32m      7\u001b[0m         \u001b[0mQuicksort\u001b[0m\u001b[0;34m(\u001b[0m\u001b[0mA\u001b[0m \u001b[0;34m,\u001b[0m \u001b[0mq\u001b[0m\u001b[0;34m+\u001b[0m\u001b[0;36m1\u001b[0m \u001b[0;34m,\u001b[0m \u001b[0mr\u001b[0m\u001b[0;34m,\u001b[0m\u001b[0mprint_flag\u001b[0m\u001b[0;34m)\u001b[0m\u001b[0;34m\u001b[0m\u001b[0;34m\u001b[0m\u001b[0m\n",
            "... last 1 frames repeated, from the frame below ...\n",
            "\u001b[0;32m/tmp/ipython-input-5-2204652070.py\u001b[0m in \u001b[0;36mQuicksort\u001b[0;34m(A, p, r, print_flag)\u001b[0m\n\u001b[1;32m      4\u001b[0m         \u001b[0;32mif\u001b[0m \u001b[0mprint_flag\u001b[0m\u001b[0;34m:\u001b[0m\u001b[0;34m\u001b[0m\u001b[0;34m\u001b[0m\u001b[0m\n\u001b[1;32m      5\u001b[0m             \u001b[0mprint\u001b[0m\u001b[0;34m(\u001b[0m\u001b[0mA\u001b[0m\u001b[0;34m)\u001b[0m\u001b[0;34m\u001b[0m\u001b[0;34m\u001b[0m\u001b[0m\n\u001b[0;32m----> 6\u001b[0;31m         \u001b[0mQuicksort\u001b[0m\u001b[0;34m(\u001b[0m\u001b[0mA\u001b[0m \u001b[0;34m,\u001b[0m \u001b[0mp\u001b[0m \u001b[0;34m,\u001b[0m \u001b[0mq\u001b[0m\u001b[0;34m-\u001b[0m\u001b[0;36m1\u001b[0m\u001b[0;34m,\u001b[0m\u001b[0mprint_flag\u001b[0m\u001b[0;34m)\u001b[0m\u001b[0;34m\u001b[0m\u001b[0;34m\u001b[0m\u001b[0m\n\u001b[0m\u001b[1;32m      7\u001b[0m         \u001b[0mQuicksort\u001b[0m\u001b[0;34m(\u001b[0m\u001b[0mA\u001b[0m \u001b[0;34m,\u001b[0m \u001b[0mq\u001b[0m\u001b[0;34m+\u001b[0m\u001b[0;36m1\u001b[0m \u001b[0;34m,\u001b[0m \u001b[0mr\u001b[0m\u001b[0;34m,\u001b[0m\u001b[0mprint_flag\u001b[0m\u001b[0;34m)\u001b[0m\u001b[0;34m\u001b[0m\u001b[0;34m\u001b[0m\u001b[0m\n",
            "\u001b[0;31mRecursionError\u001b[0m: maximum recursion depth exceeded in comparison"
          ]
        }
      ]
    },
    {
      "cell_type": "code",
      "source": [
        "# Median of 3 Quicksort on already sorted data\n",
        "for i in range(1,7):\n",
        "  N = int(math.pow(10,i))\n",
        "  A = list(range( N ) )\n",
        "  #random.shuffle(A)\n",
        "  #print(A)\n",
        "  start = time.time()\n",
        "  QuicksortM3(A,0,N-1,False)\n",
        "  end = time.time()\n",
        "  ratio=(end-start)/(N*math.log(N,2))\n",
        "  print(N,end-start,ratio)\n",
        "  #print(A)"
      ],
      "metadata": {
        "id": "atBNZ2Q8lswA",
        "outputId": "0ff696e0-73c9-4abe-9efc-38bd3aa21136",
        "colab": {
          "base_uri": "https://localhost:8080/"
        }
      },
      "execution_count": 44,
      "outputs": [
        {
          "output_type": "stream",
          "name": "stdout",
          "text": [
            "10 0.00039005279541015625 1.1741759131104308e-05\n",
            "100 0.0026311874389648438 3.960331716713543e-06\n",
            "1000 0.01781153678894043 1.7872689474478595e-06\n",
            "10000 0.2147080898284912 1.6158393837523098e-06\n",
            "100000 1.6707215309143066 1.0058745904137075e-06\n",
            "1000000 14.479549407958984 7.264631159157158e-07\n"
          ]
        }
      ]
    }
  ]
}