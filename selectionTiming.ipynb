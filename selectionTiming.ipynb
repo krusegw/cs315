{
  "nbformat": 4,
  "nbformat_minor": 0,
  "metadata": {
    "colab": {
      "provenance": [],
      "authorship_tag": "ABX9TyNgT5qkNOUehDzqU3e3WV3+",
      "include_colab_link": true
    },
    "kernelspec": {
      "name": "python3",
      "display_name": "Python 3"
    },
    "language_info": {
      "name": "python"
    }
  },
  "cells": [
    {
      "cell_type": "markdown",
      "metadata": {
        "id": "view-in-github",
        "colab_type": "text"
      },
      "source": [
        "<a href=\"https://colab.research.google.com/github/krusegw/cs315/blob/main/selectionTiming.ipynb\" target=\"_parent\"><img src=\"https://colab.research.google.com/assets/colab-badge.svg\" alt=\"Open In Colab\"/></a>"
      ]
    },
    {
      "cell_type": "code",
      "execution_count": 1,
      "metadata": {
        "id": "tZGwopH4Y7oL"
      },
      "outputs": [],
      "source": [
        "# Template for testing Insertion-Sort on small lists, outputing each intermediate step"
      ]
    },
    {
      "cell_type": "code",
      "source": [
        "import random\n",
        "import time\n",
        "import math"
      ],
      "metadata": {
        "id": "fSME9MywceAq"
      },
      "execution_count": 2,
      "outputs": []
    },
    {
      "cell_type": "code",
      "source": [
        "def selection(A,print_flag):\n",
        "    for i in range(0,N-1):\n",
        "        smallest = i\n",
        "        j = i-1\n",
        "        for j in range(i+1,N):\n",
        "            if A[smallest]>A[j]:\n",
        "                smallest=j\n",
        "        temp = A[i]\n",
        "        A[i]=A[smallest]\n",
        "        A[smallest]=temp\n",
        "    return"
      ],
      "metadata": {
        "id": "TJZL4jFQZhAp"
      },
      "execution_count": 3,
      "outputs": []
    },
    {
      "cell_type": "code",
      "source": [
        "for i in range(1,5):\n",
        "  N = int(math.pow(10,i))\n",
        "  A = list(range( N ) )\n",
        "  random.shuffle(A)\n",
        "  #print(A)\n",
        "  start = time.time()\n",
        "  selection(A,False)\n",
        "  end = time.time()\n",
        "  ratio=(end-start)/(math.pow(N,2))\n",
        "  print(N,end-start,ratio)\n",
        "  #print(A)"
      ],
      "metadata": {
        "colab": {
          "base_uri": "https://localhost:8080/"
        },
        "id": "f1GS3NjwZqmS",
        "outputId": "44636aaf-f330-470e-fdfc-334d0a36fded"
      },
      "execution_count": 4,
      "outputs": [
        {
          "output_type": "stream",
          "name": "stdout",
          "text": [
            "10 1.239776611328125e-05 1.239776611328125e-07\n",
            "100 0.00030994415283203125 3.0994415283203126e-08\n",
            "1000 0.022748947143554688 2.2748947143554688e-08\n",
            "10000 2.3638527393341064 2.3638527393341066e-08\n"
          ]
        }
      ]
    }
  ]
}