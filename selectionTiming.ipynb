{
  "nbformat": 4,
  "nbformat_minor": 0,
  "metadata": {
    "colab": {
      "provenance": [],
      "authorship_tag": "ABX9TyNCaHcAKr2dr3wMavHaLWHX",
      "include_colab_link": true
    },
    "kernelspec": {
      "name": "python3",
      "display_name": "Python 3"
    },
    "language_info": {
      "name": "python"
    }
  },
  "cells": [
    {
      "cell_type": "markdown",
      "metadata": {
        "id": "view-in-github",
        "colab_type": "text"
      },
      "source": [
        "<a href=\"https://colab.research.google.com/github/krusegw/cs315/blob/main/selectionPoCkey.ipynb\" target=\"_parent\"><img src=\"https://colab.research.google.com/assets/colab-badge.svg\" alt=\"Open In Colab\"/></a>"
      ]
    },
    {
      "cell_type": "code",
      "execution_count": null,
      "metadata": {
        "id": "tZGwopH4Y7oL"
      },
      "outputs": [],
      "source": [
        "# Template for testing Insertion-Sort on small lists, outputing each intermediate step"
      ]
    },
    {
      "cell_type": "code",
      "source": [
        "import random"
      ],
      "metadata": {
        "id": "fSME9MywceAq"
      },
      "execution_count": null,
      "outputs": []
    },
    {
      "cell_type": "code",
      "source": [
        "def selection(A,print_flag):\n",
        "    for i in range(0,N-1):\n",
        "        smallest = i\n",
        "        j = i-1\n",
        "        for j in range(i+1,N):\n",
        "            if A[smallest]>A[j]:\n",
        "                smallest=j\n",
        "        temp = A[i]\n",
        "        A[i]=A[smallest]\n",
        "        A[smallest]=temp\n",
        "    return"
      ],
      "metadata": {
        "id": "TJZL4jFQZhAp"
      },
      "execution_count": null,
      "outputs": []
    },
    {
      "cell_type": "code",
      "source": [
        "N=8\n",
        "A = list(range(N))\n",
        "\n",
        "random.shuffle(A)\n",
        "\n",
        "print(A)\n",
        "insertion(A,True)\n",
        "print(A)"
      ],
      "metadata": {
        "colab": {
          "base_uri": "https://localhost:8080/"
        },
        "id": "f1GS3NjwZqmS",
        "outputId": "2d92956d-dace-4b73-b18f-a0ef72875ad8"
      },
      "execution_count": null,
      "outputs": [
        {
          "output_type": "stream",
          "name": "stdout",
          "text": [
            "[7, 1, 2, 4, 3, 6, 5, 0]\n",
            "[1, 7, 2, 4, 3, 6, 5, 0]\n",
            "[1, 2, 7, 4, 3, 6, 5, 0]\n",
            "[1, 2, 4, 7, 3, 6, 5, 0]\n",
            "[1, 2, 3, 4, 7, 6, 5, 0]\n",
            "[1, 2, 3, 4, 6, 7, 5, 0]\n",
            "[1, 2, 3, 4, 5, 6, 7, 0]\n",
            "[0, 1, 2, 3, 4, 5, 6, 7]\n",
            "[0, 1, 2, 3, 4, 5, 6, 7]\n"
          ]
        }
      ]
    }
  ]
}