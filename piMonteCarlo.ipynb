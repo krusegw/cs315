{
  "nbformat": 4,
  "nbformat_minor": 0,
  "metadata": {
    "colab": {
      "provenance": [],
      "authorship_tag": "ABX9TyNZ6PIBEfbDMilfUwC1jR3v",
      "include_colab_link": true
    },
    "kernelspec": {
      "name": "python3",
      "display_name": "Python 3"
    },
    "language_info": {
      "name": "python"
    }
  },
  "cells": [
    {
      "cell_type": "markdown",
      "metadata": {
        "id": "view-in-github",
        "colab_type": "text"
      },
      "source": [
        "<a href=\"https://colab.research.google.com/github/krusegw/cs315/blob/main/piMonteCarlo.ipynb\" target=\"_parent\"><img src=\"https://colab.research.google.com/assets/colab-badge.svg\" alt=\"Open In Colab\"/></a>"
      ]
    },
    {
      "cell_type": "code",
      "execution_count": 1,
      "metadata": {
        "id": "1kC5fEv-sfDQ"
      },
      "outputs": [],
      "source": [
        "import numpy as np\n",
        "from numba import njit, prange\n",
        "import datetime\n",
        "import random"
      ]
    },
    {
      "cell_type": "code",
      "source": [
        "#Naive approach\n",
        "n = 10000000\n",
        "inCircle = 0\n",
        "start_time = datetime.datetime.now()\n",
        "\n",
        "for i in range(n):\n",
        "  x = random.random()\n",
        "  y = random.random()\n",
        "  if x**2+y**2<=1.0:\n",
        "    inCircle +=1\n",
        "\n",
        "end_time = datetime.datetime.now()\n",
        "elapsed_time = (end_time - start_time).total_seconds()\n",
        "pi_est_python = 4.0*inCircle/n\n",
        "print(pi_est_python,elapsed_time)"
      ],
      "metadata": {
        "colab": {
          "base_uri": "https://localhost:8080/"
        },
        "id": "m-X86P0FScb6",
        "outputId": "1ec919a0-1cca-4b10-b2ce-6f656707024f"
      },
      "execution_count": 2,
      "outputs": [
        {
          "output_type": "stream",
          "name": "stdout",
          "text": [
            "3.1423852 10.682206\n"
          ]
        }
      ]
    },
    {
      "cell_type": "code",
      "source": [
        "#Just in time compilation, into machine code\n",
        "@njit(parallel=True)\n",
        "def monte_carlo_pi(n):\n",
        "  inside = 0\n",
        "  for i in prange(n):\n",
        "    x = random.random()\n",
        "    y = random.random()\n",
        "    if x**2+y**2<=1.0:\n",
        "      inside +=1\n",
        "  return inside\n",
        "\n",
        "n = 10000000\n",
        "start_time = datetime.datetime.now()\n",
        "inCircle=monte_carlo_pi(n)\n",
        "end_time = datetime.datetime.now()\n",
        "elapsed_time = (end_time - start_time).total_seconds()\n",
        "pi_est_parallel = 4.0*inCircle/n\n",
        "print(pi_est_parallel,elapsed_time)"
      ],
      "metadata": {
        "colab": {
          "base_uri": "https://localhost:8080/"
        },
        "id": "QaomkBz2TCc6",
        "outputId": "644f4191-e85e-412a-f427-5bb05fb0119d"
      },
      "execution_count": 3,
      "outputs": [
        {
          "output_type": "stream",
          "name": "stdout",
          "text": [
            "3.1417444 1.787671\n"
          ]
        }
      ]
    },
    {
      "cell_type": "code",
      "source": [
        "# Numpy approach, parallel vectors and hardware optimization, based on https://rse.shef.ac.uk/hpc-intro-tuos-citc/16-parallel/index.html\n",
        "n = 10000000\n",
        "start_time = datetime.datetime.now()\n",
        "\n",
        "x = np.random.uniform(size=n)\n",
        "y = np.random.uniform(size=n)\n",
        "radii = np.sqrt(x*x + y*y)\n",
        "#counting how many inside the circle\n",
        "count = len(radii[np.where(radii<=1.0)])\n",
        "\n",
        "end_time = datetime.datetime.now()\n",
        "elapsed_time = (end_time - start_time).total_seconds()\n",
        "pi_est_numpy = 4.0 * count / n\n",
        "\n",
        "# Since the largest variables in the script are x, y, and radii, each containing n points,\n",
        "# and each is stored as a NumPy float64, to calculate the total memory required we can\n",
        "# use NumPy’s dtype function to calculate the size of a float64.\n",
        "size_of_float = np.dtype(np.float64).itemsize\n",
        "memory = 3 * n * size_of_float / (1024**3)\n",
        "\n",
        "print(pi_est_numpy,elapsed_time,\" memory used, in gigs: \",memory)"
      ],
      "metadata": {
        "colab": {
          "base_uri": "https://localhost:8080/"
        },
        "id": "36BIa-fwsuLe",
        "outputId": "5e6284a7-ca6b-401e-bf39-e748fa2b3b26"
      },
      "execution_count": 5,
      "outputs": [
        {
          "output_type": "stream",
          "name": "stdout",
          "text": [
            "3.1416868 1.10444  memory used, in gigs:  0.22351741790771484\n"
          ]
        }
      ]
    }
  ]
}