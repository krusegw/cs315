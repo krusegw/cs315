{
  "nbformat": 4,
  "nbformat_minor": 0,
  "metadata": {
    "colab": {
      "provenance": [],
      "authorship_tag": "ABX9TyNIXhOaIOWr5RKYxFU0YK8D",
      "include_colab_link": true
    },
    "kernelspec": {
      "name": "python3",
      "display_name": "Python 3"
    },
    "language_info": {
      "name": "python"
    }
  },
  "cells": [
    {
      "cell_type": "markdown",
      "metadata": {
        "id": "view-in-github",
        "colab_type": "text"
      },
      "source": [
        "<a href=\"https://colab.research.google.com/github/krusegw/cs315/blob/main/piMonteCarlo.ipynb\" target=\"_parent\"><img src=\"https://colab.research.google.com/assets/colab-badge.svg\" alt=\"Open In Colab\"/></a>"
      ]
    },
    {
      "cell_type": "code",
      "execution_count": 14,
      "metadata": {
        "id": "1kC5fEv-sfDQ"
      },
      "outputs": [],
      "source": [
        "import numpy as np\n",
        "import datetime\n",
        "import random"
      ]
    },
    {
      "cell_type": "code",
      "source": [
        "# Numpy approach, based on https://rse.shef.ac.uk/hpc-intro-tuos-citc/16-parallel/index.html\n",
        "n = 10000000\n",
        "start_time = datetime.datetime.now()\n",
        "\n",
        "x = np.random.uniform(size=n)\n",
        "y = np.random.uniform(size=n)\n",
        "radii = np.sqrt(x*x + y*y)\n",
        "#counting how many inside the circle\n",
        "count = len(radii[np.where(radii<=1.0)])\n",
        "\n",
        "end_time = datetime.datetime.now()\n",
        "elapsed_time = (end_time - start_time).total_seconds()\n",
        "pi_est_numpy = 4.0 * count / n\n",
        "\n",
        "# Since the largest variables in the script are x, y, and radii, each containing n points,\n",
        "# and each is stored as a NumPy float64, to calculate the total memory required we can\n",
        "# use NumPy’s dtype function to calculate the size of a float64.\n",
        "size_of_float = np.dtype(np.float64).itemsize\n",
        "memory = 3 * n * size_of_float / (1024**3)\n",
        "\n",
        "print(pi_est_numpy,elapsed_time,memory)"
      ],
      "metadata": {
        "colab": {
          "base_uri": "https://localhost:8080/"
        },
        "id": "36BIa-fwsuLe",
        "outputId": "5350499e-8852-43c0-eedd-b1ad19d0ea68"
      },
      "execution_count": 31,
      "outputs": [
        {
          "output_type": "stream",
          "name": "stdout",
          "text": [
            "3.1415108 0.420225 0.22351741790771484\n"
          ]
        }
      ]
    },
    {
      "cell_type": "code",
      "source": [
        "n = 10000000\n",
        "inCircle = 0\n",
        "start_time = datetime.datetime.now()\n",
        "\n",
        "for i in range(n):\n",
        "  x = random.random()\n",
        "  y = random.random()\n",
        "  if x**2+y**2<=1.0:\n",
        "    inCircle +=1\n",
        "\n",
        "end_time = datetime.datetime.now()\n",
        "elapsed_time = (end_time - start_time).total_seconds()\n",
        "pi_est_python = 4.0*inCircle/n\n",
        "print(pi_est_python,elapsed_time)"
      ],
      "metadata": {
        "colab": {
          "base_uri": "https://localhost:8080/"
        },
        "id": "v3-XQ0PVybO5",
        "outputId": "49481b38-4bb0-40c1-ceb5-79c86171ae67"
      },
      "execution_count": 32,
      "outputs": [
        {
          "output_type": "stream",
          "name": "stdout",
          "text": [
            "3.1418844 3.967859\n"
          ]
        }
      ]
    }
  ]
}