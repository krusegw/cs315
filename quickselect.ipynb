{
  "nbformat": 4,
  "nbformat_minor": 0,
  "metadata": {
    "colab": {
      "provenance": [],
      "authorship_tag": "ABX9TyOSU4q8HBJLxaYhPVVnE1uB",
      "include_colab_link": true
    },
    "kernelspec": {
      "name": "python3",
      "display_name": "Python 3"
    },
    "language_info": {
      "name": "python"
    }
  },
  "cells": [
    {
      "cell_type": "markdown",
      "metadata": {
        "id": "view-in-github",
        "colab_type": "text"
      },
      "source": [
        "<a href=\"https://colab.research.google.com/github/krusegw/cs315/blob/main/quickselect.ipynb\" target=\"_parent\"><img src=\"https://colab.research.google.com/assets/colab-badge.svg\" alt=\"Open In Colab\"/></a>"
      ]
    },
    {
      "cell_type": "code",
      "source": [
        "import random\n",
        "import time\n",
        "import math"
      ],
      "metadata": {
        "id": "pOP7dr40ZxAp"
      },
      "execution_count": 6,
      "outputs": []
    },
    {
      "cell_type": "code",
      "execution_count": 7,
      "metadata": {
        "id": "TCXE_HGSZAwP"
      },
      "outputs": [],
      "source": [
        "def quickselect(A, i):\n",
        "    if len(A) == 1:\n",
        "        return A[0]\n",
        "    pivot = random.choice(A)\n",
        "    lows = [x for x in A if x < pivot]\n",
        "    highs = [x for x in A if x > pivot]\n",
        "    pivots = [x for x in A if x == pivot]\n",
        "    if i <= len(lows):\n",
        "        return quickselect(lows, i)\n",
        "    elif i <= len(lows) + len(pivots):\n",
        "        return pivot\n",
        "    else:\n",
        "        return quickselect(highs, i - len(lows) - len(pivots))"
      ]
    },
    {
      "cell_type": "code",
      "source": [
        "import math\n",
        "for i in range(1,8):\n",
        "  N = int(math.pow(10,i))\n",
        "  A = list(range( N ) )\n",
        "  #random.shuffle(A)\n",
        "  #i = random.randint(0,N-1)\n",
        "  i=N-1\n",
        "  #print(i,A)\n",
        "  start = time.time()\n",
        "  value=quickselect(A,i)\n",
        "  end = time.time()\n",
        "  ratio=(end-start)/(N*N)\n",
        "  print(N,end-start,value,ratio)\n",
        "  #print(A)"
      ],
      "metadata": {
        "colab": {
          "base_uri": "https://localhost:8080/"
        },
        "id": "zEn9rR69ZFQW",
        "outputId": "a49e26fc-19cc-4d1a-a871-6a264b4bf5d3"
      },
      "execution_count": 16,
      "outputs": [
        {
          "output_type": "stream",
          "name": "stdout",
          "text": [
            "10 1.33514404296875e-05 8 1.33514404296875e-07\n",
            "100 3.314018249511719e-05 98 3.3140182495117186e-09\n",
            "1000 0.00011610984802246094 998 1.1610984802246094e-10\n",
            "10000 0.0010023117065429688 9998 1.0023117065429687e-11\n",
            "100000 0.01337289810180664 99998 1.337289810180664e-12\n",
            "1000000 0.3388230800628662 999998 3.388230800628662e-13\n",
            "10000000 1.6799192428588867 9999998 1.6799192428588867e-14\n"
          ]
        }
      ]
    }
  ]
}