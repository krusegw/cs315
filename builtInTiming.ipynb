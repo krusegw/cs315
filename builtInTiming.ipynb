{
  "nbformat": 4,
  "nbformat_minor": 0,
  "metadata": {
    "colab": {
      "provenance": [],
      "authorship_tag": "ABX9TyPyINaZffWtQ63VOXG63Oga",
      "include_colab_link": true
    },
    "kernelspec": {
      "name": "python3",
      "display_name": "Python 3"
    },
    "language_info": {
      "name": "python"
    }
  },
  "cells": [
    {
      "cell_type": "markdown",
      "metadata": {
        "id": "view-in-github",
        "colab_type": "text"
      },
      "source": [
        "<a href=\"https://colab.research.google.com/github/krusegw/cs315/blob/main/insertionTiming.ipynb\" target=\"_parent\"><img src=\"https://colab.research.google.com/assets/colab-badge.svg\" alt=\"Open In Colab\"/></a>"
      ]
    },
    {
      "cell_type": "code",
      "execution_count": 1,
      "metadata": {
        "id": "tZGwopH4Y7oL"
      },
      "outputs": [],
      "source": [
        "# Template for testing Insertion-Sort on small lists, outputing each intermediate step"
      ]
    },
    {
      "cell_type": "code",
      "source": [
        "import random\n",
        "import time\n",
        "import math"
      ],
      "metadata": {
        "id": "fSME9MywceAq"
      },
      "execution_count": 2,
      "outputs": []
    },
    {
      "cell_type": "code",
      "source": [
        "def insertion(A,print_flag):\n",
        "    for i in range(1,N):\n",
        "        key = A[i]\n",
        "        j = i-1\n",
        "        while (j>-1 and A[j]>key):\n",
        "            A[j+1] = A[j]\n",
        "            j -= 1\n",
        "        A[j+1] = key\n",
        "        if print_flag:\n",
        "          print(A)\n",
        "    return"
      ],
      "metadata": {
        "id": "TJZL4jFQZhAp"
      },
      "execution_count": 4,
      "outputs": []
    },
    {
      "cell_type": "code",
      "source": [
        "for i in range(1,5):\n",
        "  N = int(math.pow(10,i))\n",
        "  A = list(range( N ) )\n",
        "  random.shuffle(A)\n",
        "  #print(A)\n",
        "  start = time.time()\n",
        "  insertion(A,False)\n",
        "  end = time.time()\n",
        "  ratio=(end-start)/(math.pow(N,2))\n",
        "  print(N,end-start,ratio)\n",
        "  #print(A)"
      ],
      "metadata": {
        "colab": {
          "base_uri": "https://localhost:8080/"
        },
        "id": "f1GS3NjwZqmS",
        "outputId": "adae3a7d-d592-48f2-aec3-aaac50d74807"
      },
      "execution_count": 10,
      "outputs": [
        {
          "output_type": "stream",
          "name": "stdout",
          "text": [
            "10 6.67572021484375e-06 6.67572021484375e-08\n",
            "100 0.00016164779663085938 1.6164779663085937e-08\n",
            "1000 0.01880955696105957 1.880955696105957e-08\n",
            "10000 2.1732068061828613 2.1732068061828615e-08\n"
          ]
        }
      ]
    }
  ]
}