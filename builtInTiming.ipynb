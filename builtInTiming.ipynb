{
  "nbformat": 4,
  "nbformat_minor": 0,
  "metadata": {
    "colab": {
      "provenance": [],
      "authorship_tag": "ABX9TyOAOyqRzdLN871D/JRxitUv",
      "include_colab_link": true
    },
    "kernelspec": {
      "name": "python3",
      "display_name": "Python 3"
    },
    "language_info": {
      "name": "python"
    }
  },
  "cells": [
    {
      "cell_type": "markdown",
      "metadata": {
        "id": "view-in-github",
        "colab_type": "text"
      },
      "source": [
        "<a href=\"https://colab.research.google.com/github/krusegw/cs315/blob/main/builtInTiming.ipynb\" target=\"_parent\"><img src=\"https://colab.research.google.com/assets/colab-badge.svg\" alt=\"Open In Colab\"/></a>"
      ]
    },
    {
      "cell_type": "code",
      "execution_count": 1,
      "metadata": {
        "id": "tZGwopH4Y7oL"
      },
      "outputs": [],
      "source": [
        "# Template for testing Insertion-Sort on small lists, outputing each intermediate step"
      ]
    },
    {
      "cell_type": "code",
      "source": [
        "import random\n",
        "import time\n",
        "import math"
      ],
      "metadata": {
        "id": "fSME9MywceAq"
      },
      "execution_count": 2,
      "outputs": []
    },
    {
      "cell_type": "code",
      "source": [
        "for i in range(1,8):\n",
        "  N = int(math.pow(10,i))\n",
        "  A = list(range( N ) )\n",
        "  random.shuffle(A)\n",
        "  #print(A)\n",
        "  start = time.time()\n",
        "  B=sorted(A)\n",
        "  end = time.time()\n",
        "  ratio=(end-start)/(N*math.log2(N))\n",
        "  print(N,end-start,ratio)\n",
        "  #print(B)"
      ],
      "metadata": {
        "colab": {
          "base_uri": "https://localhost:8080/"
        },
        "id": "f1GS3NjwZqmS",
        "outputId": "1a04d475-317f-4d16-b81f-34aee8154afe"
      },
      "execution_count": 9,
      "outputs": [
        {
          "output_type": "stream",
          "name": "stdout",
          "text": [
            "10 1.2874603271484375e-05 3.8756417669904196e-07\n",
            "100 1.0728836059570312e-05 1.6148507362460082e-08\n",
            "1000 0.00014281272888183594 1.4330305052020131e-08\n",
            "10000 0.0020911693572998047 1.5737617564015263e-08\n",
            "100000 0.02832651138305664 1.705425919763451e-08\n",
            "1000000 0.5175442695617676 2.596605820368287e-08\n",
            "10000000 8.221141576766968 3.53544316172448e-08\n"
          ]
        }
      ]
    },
    {
      "cell_type": "code",
      "source": [
        "for i in range(1,8):\n",
        "  N = int(math.pow(10,i))\n",
        "  A = list(range( N ) )\n",
        "  random.shuffle(A)\n",
        "  #print(A)\n",
        "  start = time.time()\n",
        "  A.sort()\n",
        "  end = time.time()\n",
        "  ratio=(end-start)/(N*math.log2(N))\n",
        "  print(N,end-start,ratio)\n",
        "  #print(A)"
      ],
      "metadata": {
        "id": "6_JEhkoxbzNf",
        "outputId": "d9a4b113-c5b2-4fe2-dd4a-4094a4260b5c",
        "colab": {
          "base_uri": "https://localhost:8080/"
        }
      },
      "execution_count": 13,
      "outputs": [
        {
          "output_type": "stream",
          "name": "stdout",
          "text": [
            "10 2.384185791015625e-06 7.177114383315592e-08\n",
            "100 1.0013580322265625e-05 1.5071940204962745e-08\n",
            "1000 0.00011491775512695312 1.1531230442527049e-08\n",
            "10000 0.0017211437225341797 1.2952897183288815e-08\n",
            "100000 0.02515244483947754 1.51432807219329e-08\n",
            "1000000 0.48627781867980957 2.4397368274778886e-08\n",
            "10000000 6.739871501922607 2.898433555713647e-08\n"
          ]
        }
      ]
    }
  ]
}